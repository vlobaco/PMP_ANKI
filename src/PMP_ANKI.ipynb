{
 "cells": [
  {
   "cell_type": "markdown",
   "metadata": {},
   "source": [
    "## PMP - ANKI export"
   ]
  },
  {
   "cell_type": "code",
   "execution_count": 1,
   "metadata": {},
   "outputs": [],
   "source": [
    "lesson = \"003\"\n",
    "questions_path = f\"../data/questions_{lesson}.txt\"\n",
    "answers_path = f\"../data/answers_{lesson}.txt\""
   ]
  },
  {
   "cell_type": "markdown",
   "metadata": {},
   "source": [
    "## Loading questions and answers"
   ]
  },
  {
   "cell_type": "code",
   "execution_count": 2,
   "metadata": {},
   "outputs": [
    {
     "ename": "FileNotFoundError",
     "evalue": "[Errno 2] No such file or directory: '../data/questions_003.txt'",
     "output_type": "error",
     "traceback": [
      "\u001b[0;31m---------------------------------------------------------------------------\u001b[0m",
      "\u001b[0;31mFileNotFoundError\u001b[0m                         Traceback (most recent call last)",
      "Cell \u001b[0;32mIn[2], line 5\u001b[0m\n\u001b[1;32m      2\u001b[0m \u001b[38;5;28;01mimport\u001b[39;00m \u001b[38;5;21;01mre\u001b[39;00m\n\u001b[1;32m      4\u001b[0m questions \u001b[38;5;241m=\u001b[39m []\n\u001b[0;32m----> 5\u001b[0m \u001b[38;5;28;01mwith\u001b[39;00m \u001b[38;5;28;43mopen\u001b[39;49m\u001b[43m(\u001b[49m\u001b[43mquestions_path\u001b[49m\u001b[43m,\u001b[49m\u001b[43m \u001b[49m\u001b[38;5;124;43m\"\u001b[39;49m\u001b[38;5;124;43mr\u001b[39;49m\u001b[38;5;124;43m\"\u001b[39;49m\u001b[43m,\u001b[49m\u001b[43m \u001b[49m\u001b[43mencoding\u001b[49m\u001b[38;5;241;43m=\u001b[39;49m\u001b[38;5;124;43m\"\u001b[39;49m\u001b[38;5;124;43mutf-8-sig\u001b[39;49m\u001b[38;5;124;43m\"\u001b[39;49m\u001b[43m)\u001b[49m \u001b[38;5;28;01mas\u001b[39;00m f:\n\u001b[1;32m      6\u001b[0m     questions_text \u001b[38;5;241m=\u001b[39m f\u001b[38;5;241m.\u001b[39mread()\n\u001b[1;32m      8\u001b[0m \u001b[38;5;66;03m# Remove tabs\u001b[39;00m\n",
      "File \u001b[0;32m~/git/PMP - ANKI/.venv/lib/python3.13/site-packages/IPython/core/interactiveshell.py:324\u001b[0m, in \u001b[0;36m_modified_open\u001b[0;34m(file, *args, **kwargs)\u001b[0m\n\u001b[1;32m    317\u001b[0m \u001b[38;5;28;01mif\u001b[39;00m file \u001b[38;5;129;01min\u001b[39;00m {\u001b[38;5;241m0\u001b[39m, \u001b[38;5;241m1\u001b[39m, \u001b[38;5;241m2\u001b[39m}:\n\u001b[1;32m    318\u001b[0m     \u001b[38;5;28;01mraise\u001b[39;00m \u001b[38;5;167;01mValueError\u001b[39;00m(\n\u001b[1;32m    319\u001b[0m         \u001b[38;5;124mf\u001b[39m\u001b[38;5;124m\"\u001b[39m\u001b[38;5;124mIPython won\u001b[39m\u001b[38;5;124m'\u001b[39m\u001b[38;5;124mt let you open fd=\u001b[39m\u001b[38;5;132;01m{\u001b[39;00mfile\u001b[38;5;132;01m}\u001b[39;00m\u001b[38;5;124m by default \u001b[39m\u001b[38;5;124m\"\u001b[39m\n\u001b[1;32m    320\u001b[0m         \u001b[38;5;124m\"\u001b[39m\u001b[38;5;124mas it is likely to crash IPython. If you know what you are doing, \u001b[39m\u001b[38;5;124m\"\u001b[39m\n\u001b[1;32m    321\u001b[0m         \u001b[38;5;124m\"\u001b[39m\u001b[38;5;124myou can use builtins\u001b[39m\u001b[38;5;124m'\u001b[39m\u001b[38;5;124m open.\u001b[39m\u001b[38;5;124m\"\u001b[39m\n\u001b[1;32m    322\u001b[0m     )\n\u001b[0;32m--> 324\u001b[0m \u001b[38;5;28;01mreturn\u001b[39;00m \u001b[43mio_open\u001b[49m\u001b[43m(\u001b[49m\u001b[43mfile\u001b[49m\u001b[43m,\u001b[49m\u001b[43m \u001b[49m\u001b[38;5;241;43m*\u001b[39;49m\u001b[43margs\u001b[49m\u001b[43m,\u001b[49m\u001b[43m \u001b[49m\u001b[38;5;241;43m*\u001b[39;49m\u001b[38;5;241;43m*\u001b[39;49m\u001b[43mkwargs\u001b[49m\u001b[43m)\u001b[49m\n",
      "\u001b[0;31mFileNotFoundError\u001b[0m: [Errno 2] No such file or directory: '../data/questions_003.txt'"
     ]
    }
   ],
   "source": [
    "## Loading questions\n",
    "import re\n",
    "\n",
    "questions = []\n",
    "with open(questions_path, \"r\", encoding=\"utf-8-sig\") as f:\n",
    "    questions_text = f.read()\n",
    "\n",
    "# Remove tabs\n",
    "questions_text = questions_text.replace(\"\\t\", \" \")\n",
    "\n",
    "questions = re.split(r\"\\n\\n\", questions_text)\n",
    "print(\"Questions loaded:\", len(questions))\n",
    "print()\n",
    "print(questions[0])"
   ]
  },
  {
   "cell_type": "code",
   "execution_count": 40,
   "metadata": {},
   "outputs": [
    {
     "name": "stdout",
     "output_type": "stream",
     "text": [
      "Answers loaded: 30\n"
     ]
    }
   ],
   "source": [
    "## Loading answers\n",
    "\n",
    "answers = []\n",
    "with open(answers_path, \"r\") as f:\n",
    "    answers = f.read()\n",
    "\n",
    "print(\"Answers loaded:\", len(answers))"
   ]
  },
  {
   "cell_type": "markdown",
   "metadata": {},
   "source": [
    "## Integrity check"
   ]
  },
  {
   "cell_type": "code",
   "execution_count": 41,
   "metadata": {},
   "outputs": [
    {
     "name": "stdout",
     "output_type": "stream",
     "text": [
      "Questions and answers are well formatted\n"
     ]
    }
   ],
   "source": [
    "assert len(questions) == len(answers), \"Questions and answers should have the same length\"\n",
    "for question_index, question in enumerate(questions):\n",
    "    question = question.strip().split(\"\\n\")\n",
    "    assert len(question) == 5, f\"Question {question_index+1} does not have 5 lines\"\n",
    "    assert question[0].startswith(f\"{question_index+1}. \"), f\"Question {question_index+1} is not well formatted\"\n",
    "    for option_index, option in enumerate(question[1:]):\n",
    "        option_start = f\"{chr(ord('A')+option_index)}. \"\n",
    "        assert option.startswith(option_start), f\"Option {option_index+1} of question {question_index+1} is not well formatted\"\n",
    "\n",
    "print(\"Questions and answers are well formatted\")"
   ]
  },
  {
   "cell_type": "markdown",
   "metadata": {},
   "source": [
    "## Saving csv"
   ]
  },
  {
   "cell_type": "code",
   "execution_count": 42,
   "metadata": {},
   "outputs": [],
   "source": [
    "import csv\n",
    "\n",
    "csv_path = f\"../data/questions_{lesson}.csv\"\n",
    "single_choice_code = 2\n",
    "with open(csv_path, \"w\", newline=\"\\n\", encoding=\"utf-8\") as f:\n",
    "    writer = csv.writer(f)\n",
    "    writer.writerow([\"Question\",  \"Title\", \"QType\", \"Q_1\", \"Q_2\", \"Q_3\", \"Q_4\", \"Q_5\", \"Answers\", \"Sources\", \"Extra 1\", \"Tags\"])\n",
    "    for question_index, question in enumerate(questions):\n",
    "        question = question.strip().split(\"\\n\")\n",
    "        question_text = question[0][3 if question_index < 9 else 4:]\n",
    "        options = [option[3:] for option in question[1:]]\n",
    "        answer = \" \".join([\"1\" if index == ord(answers[question_index])-ord('A') else \"0\" for index in range(4)])\n",
    "        writer.writerow([question_text, \"\", single_choice_code] + options + [\"\", answer, f\"lesson: {int(lesson)} / question: {question_index+1}\", \"\", \"\"])"
   ]
  }
 ],
 "metadata": {
  "kernelspec": {
   "display_name": ".venv",
   "language": "python",
   "name": "python3"
  },
  "language_info": {
   "codemirror_mode": {
    "name": "ipython",
    "version": 3
   },
   "file_extension": ".py",
   "mimetype": "text/x-python",
   "name": "python",
   "nbconvert_exporter": "python",
   "pygments_lexer": "ipython3",
   "version": "3.13.0"
  }
 },
 "nbformat": 4,
 "nbformat_minor": 2
}
