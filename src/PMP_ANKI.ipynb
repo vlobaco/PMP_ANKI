{
 "cells": [
  {
   "cell_type": "markdown",
   "metadata": {},
   "source": [
    "## PMP - ANKI export"
   ]
  },
  {
   "cell_type": "code",
   "execution_count": 36,
   "metadata": {},
   "outputs": [],
   "source": [
    "lesson = \"001\"\n",
    "questions_path = f\"../data/questions_{lesson}.txt\"\n",
    "answers_path = f\"../data/answers_{lesson}.txt\""
   ]
  },
  {
   "cell_type": "markdown",
   "metadata": {},
   "source": [
    "## Loading questions and answers"
   ]
  },
  {
   "cell_type": "code",
   "execution_count": 37,
   "metadata": {},
   "outputs": [
    {
     "name": "stdout",
     "output_type": "stream",
     "text": [
      "Questions loaded: 21\n",
      "\n",
      "1. You have been assigned as a project manager to implement a new and innovative smartphone application in a balanced matrix organizational structure. You may experience difficulties in obtaining and assigning resources to your project due to which one of the following factors?\n",
      "A. The power and authority are shared between you and the functional manager, and you do not have full authority over the project and its funding.\n",
      "B. Your role is like a coordinator or expeditor (communication coordinator or staff assistant).\n",
      "C. You have no real authority and power.\n",
      "D. The project budget is fully controlled by the functional manager.\n"
     ]
    }
   ],
   "source": [
    "## Loading questions\n",
    "import re\n",
    "\n",
    "questions = []\n",
    "with open(questions_path, \"r\", encoding=\"utf-8-sig\") as f:\n",
    "    questions_text = f.read()\n",
    "\n",
    "# Remove tabs\n",
    "questions_text = questions_text.replace(\"\\t\", \" \")\n",
    "\n",
    "questions = re.split(r\"\\n\\n\", questions_text)\n",
    "print(\"Questions loaded:\", len(questions))\n",
    "print()\n",
    "print(questions[0])"
   ]
  },
  {
   "cell_type": "code",
   "execution_count": 38,
   "metadata": {},
   "outputs": [
    {
     "name": "stdout",
     "output_type": "stream",
     "text": [
      "Answers loaded: 21\n"
     ]
    }
   ],
   "source": [
    "## Loading answers\n",
    "\n",
    "answers = []\n",
    "with open(answers_path, \"r\") as f:\n",
    "    answers = f.read()\n",
    "\n",
    "print(\"Answers loaded:\", len(answers))"
   ]
  },
  {
   "cell_type": "markdown",
   "metadata": {},
   "source": [
    "## Integrity check"
   ]
  },
  {
   "cell_type": "code",
   "execution_count": 39,
   "metadata": {},
   "outputs": [
    {
     "name": "stdout",
     "output_type": "stream",
     "text": [
      "Questions and answers are well formatted\n"
     ]
    }
   ],
   "source": [
    "assert len(questions) == len(answers), \"Questions and answers should have the same length\"\n",
    "for question_index, question in enumerate(questions):\n",
    "    question = question.strip().split(\"\\n\")\n",
    "    assert len(question) == 5, f\"Question {question_index+1} does not have 5 lines\"\n",
    "    assert question[0].startswith(f\"{question_index+1}. \"), f\"Question {question_index+1} is not well formatted\"\n",
    "    for option_index, option in enumerate(question[1:]):\n",
    "        option_start = f\"{chr(ord('A')+option_index)}. \"\n",
    "        assert option.startswith(option_start), f\"Option {option_index+1} of question {question_index+1} is not well formatted\"\n",
    "\n",
    "print(\"Questions and answers are well formatted\")"
   ]
  },
  {
   "cell_type": "markdown",
   "metadata": {},
   "source": [
    "## Saving csv"
   ]
  },
  {
   "cell_type": "code",
   "execution_count": 40,
   "metadata": {},
   "outputs": [],
   "source": [
    "import csv\n",
    "\n",
    "csv_path = f\"../data/questions_{lesson}.csv\"\n",
    "single_choice_code = 2\n",
    "with open(csv_path, \"w\", newline=\"\\n\", encoding=\"utf-8\") as f:\n",
    "    writer = csv.writer(f)\n",
    "    writer.writerow([\"question\",  \"card_type\", \"option_a\", \"option_b\", \"option_c\", \"option_d\", \"answers\", \"source\"])\n",
    "    for question_index, question in enumerate(questions):\n",
    "        question = question.strip().split(\"\\n\")\n",
    "        question_text = question[0][3 if question_index < 9 else 4:]\n",
    "        options = [option[3:] for option in question[1:]]\n",
    "        answer = \" \".join([1 if index == ord(answers[question_index])-ord('A') else 0 for index in range(4)])\n",
    "        writer.writerow([question_text] + [single_choice_code] + options + [answer, f\"lesson: {int(lesson)} / question: {question_index+1}\"])"
   ]
  }
 ],
 "metadata": {
  "kernelspec": {
   "display_name": ".venv",
   "language": "python",
   "name": "python3"
  },
  "language_info": {
   "codemirror_mode": {
    "name": "ipython",
    "version": 3
   },
   "file_extension": ".py",
   "mimetype": "text/x-python",
   "name": "python",
   "nbconvert_exporter": "python",
   "pygments_lexer": "ipython3",
   "version": "3.13.0"
  }
 },
 "nbformat": 4,
 "nbformat_minor": 2
}
