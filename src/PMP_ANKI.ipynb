{
 "cells": [
  {
   "cell_type": "markdown",
   "metadata": {},
   "source": [
    "## PMP - ANKI export"
   ]
  },
  {
   "cell_type": "code",
   "execution_count": 33,
   "metadata": {},
   "outputs": [],
   "source": [
    "lesson = \"003\"\n",
    "questions_path = f\"../data/questions_{lesson}.txt\"\n",
    "answers_path = f\"../data/answers_{lesson}.txt\""
   ]
  },
  {
   "cell_type": "markdown",
   "metadata": {},
   "source": [
    "## Loading questions and answers"
   ]
  },
  {
   "cell_type": "code",
   "execution_count": 34,
   "metadata": {},
   "outputs": [
    {
     "name": "stdout",
     "output_type": "stream",
     "text": [
      "Questions loaded: 30\n",
      "\n",
      "1. Which one of the following choices is a true benefit to following agile practice\n",
      "A. Build the product all at once\n",
      "B. Do all planning upfront\n",
      "C. Build a product in increments\n",
      "D. Have any strict change management process\n"
     ]
    }
   ],
   "source": [
    "## Loading questions\n",
    "import re\n",
    "\n",
    "questions = []\n",
    "with open(questions_path, \"r\", encoding=\"utf-8-sig\") as f:\n",
    "    questions_text = f.read()\n",
    "\n",
    "# Remove tabs\n",
    "questions_text = questions_text.replace(\"\\t\", \" \")\n",
    "\n",
    "questions = re.split(r\"\\n\\n\", questions_text)\n",
    "print(\"Questions loaded:\", len(questions))\n",
    "print()\n",
    "print(questions[0])"
   ]
  },
  {
   "cell_type": "code",
   "execution_count": 35,
   "metadata": {},
   "outputs": [
    {
     "name": "stdout",
     "output_type": "stream",
     "text": [
      "Answers loaded: 30\n"
     ]
    }
   ],
   "source": [
    "## Loading answers\n",
    "\n",
    "answers = []\n",
    "with open(answers_path, \"r\") as f:\n",
    "    answers = f.read()\n",
    "\n",
    "print(\"Answers loaded:\", len(answers))"
   ]
  },
  {
   "cell_type": "markdown",
   "metadata": {},
   "source": [
    "## Integrity check"
   ]
  },
  {
   "cell_type": "code",
   "execution_count": 36,
   "metadata": {},
   "outputs": [
    {
     "name": "stdout",
     "output_type": "stream",
     "text": [
      "Questions and answers are well formatted\n"
     ]
    }
   ],
   "source": [
    "assert len(questions) == len(answers), \"Questions and answers should have the same length\"\n",
    "for question_index, question in enumerate(questions):\n",
    "    question = question.strip().split(\"\\n\")\n",
    "    assert len(question) == 5, f\"Question {question_index+1} does not have 5 lines\"\n",
    "    assert question[0].startswith(f\"{question_index+1}. \"), f\"Question {question_index+1} is not well formatted\"\n",
    "    for option_index, option in enumerate(question[1:]):\n",
    "        option_start = f\"{chr(ord('A')+option_index)}. \"\n",
    "        assert option.startswith(option_start), f\"Option {option_index+1} of question {question_index+1} is not well formatted\"\n",
    "\n",
    "print(\"Questions and answers are well formatted\")"
   ]
  },
  {
   "cell_type": "markdown",
   "metadata": {},
   "source": [
    "## Saving csv"
   ]
  },
  {
   "cell_type": "code",
   "execution_count": 37,
   "metadata": {},
   "outputs": [],
   "source": [
    "import csv\n",
    "\n",
    "csv_path = f\"../data/questions_{lesson}.csv\"\n",
    "single_choice_code = 2\n",
    "with open(csv_path, \"w\", newline=\"\\n\", encoding=\"utf-8\") as f:\n",
    "    writer = csv.writer(f)\n",
    "    writer.writerow([\"Question\",  \"Title\", \"QType\", \"Q_1\", \"Q_2\", \"Q_3\", \"Q_4\", \"Q_5\", \"Answers\", \"Sources\", \"Extra 1\", \"Tags\"])\n",
    "    for question_index, question in enumerate(questions):\n",
    "        question = question.strip().split(\"\\n\")\n",
    "        question_text = question[0][3 if question_index < 9 else 4:]\n",
    "        options = [option[3:] for option in question[1:]]\n",
    "        answer = \" \".join([\"1\" if index == ord(answers[question_index])-ord('A') else \"0\" for index in range(4)])\n",
    "        writer.writerow([question_text, \"\", single_choice_code] + options + [answer, f\"lesson: {int(lesson)} / question: {question_index+1}\", \"\", \"\"])"
   ]
  }
 ],
 "metadata": {
  "kernelspec": {
   "display_name": ".venv",
   "language": "python",
   "name": "python3"
  },
  "language_info": {
   "codemirror_mode": {
    "name": "ipython",
    "version": 3
   },
   "file_extension": ".py",
   "mimetype": "text/x-python",
   "name": "python",
   "nbconvert_exporter": "python",
   "pygments_lexer": "ipython3",
   "version": "3.13.0"
  }
 },
 "nbformat": 4,
 "nbformat_minor": 2
}
